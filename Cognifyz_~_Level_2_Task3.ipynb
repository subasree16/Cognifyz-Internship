{
  "nbformat": 4,
  "nbformat_minor": 0,
  "metadata": {
    "colab": {
      "provenance": []
    },
    "kernelspec": {
      "name": "python3",
      "display_name": "Python 3"
    },
    "language_info": {
      "name": "python"
    }
  },
  "cells": [
    {
      "cell_type": "code",
      "execution_count": null,
      "metadata": {
        "colab": {
          "base_uri": "https://localhost:8080/"
        },
        "id": "SKgV-c7-QDyW",
        "outputId": "8b6892a8-5035-47e3-9646-d91d2a181143"
      },
      "outputs": [
        {
          "output_type": "stream",
          "name": "stdout",
          "text": [
            "          Restaurant Name  Restaurant_Name_Length  \\\n",
            "0        Le Petit Souffle                      16   \n",
            "1        Izakaya Kikufuji                      16   \n",
            "2  Heat - Edsa Shangri-La                      22   \n",
            "3                    Ooma                       4   \n",
            "4             Sambo Kojin                      11   \n",
            "\n",
            "                                             Address  Address_Length  \\\n",
            "0  Third Floor, Century City Mall, Kalayaan Avenu...              71   \n",
            "1  Little Tokyo, 2277 Chino Roces Avenue, Legaspi...              67   \n",
            "2  Edsa Shangri-La, 1 Garden Way, Ortigas, Mandal...              56   \n",
            "3  Third Floor, Mega Fashion Hall, SM Megamall, O...              70   \n",
            "4  Third Floor, Mega Atrium, SM Megamall, Ortigas...              64   \n",
            "\n",
            "  Has Table booking  Table_Booking_Flag Has Online delivery  \\\n",
            "0               Yes                   1                  No   \n",
            "1               Yes                   1                  No   \n",
            "2               Yes                   1                  No   \n",
            "3                No                   0                  No   \n",
            "4               Yes                   1                  No   \n",
            "\n",
            "   Online_Delivery_Flag  \n",
            "0                     0  \n",
            "1                     0  \n",
            "2                     0  \n",
            "3                     0  \n",
            "4                     0  \n"
          ]
        }
      ],
      "source": [
        "import pandas as pd\n",
        "\n",
        "# Load the dataset\n",
        "df = pd.read_csv('/content/Dataset .csv')\n",
        "\n",
        "# Drop rows with missing restaurant name or address\n",
        "df = df.dropna(subset=['Restaurant Name', 'Address'])\n",
        "\n",
        "# 1️⃣ Extract new features\n",
        "df['Restaurant_Name_Length'] = df['Restaurant Name'].apply(len)\n",
        "df['Address_Length'] = df['Address'].apply(len)\n",
        "\n",
        "# 2️⃣ Encode 'Has Table booking' and 'Has Online delivery'\n",
        "df['Table_Booking_Flag'] = df['Has Table booking'].str.strip().str.lower().map({'yes': 1, 'no': 0})\n",
        "df['Online_Delivery_Flag'] = df['Has Online delivery'].str.strip().str.lower().map({'yes': 1, 'no': 0})\n",
        "\n",
        "# 🖨️ Show first few rows of the new features\n",
        "print(df[['Restaurant Name', 'Restaurant_Name_Length', 'Address', 'Address_Length',\n",
        "          'Has Table booking', 'Table_Booking_Flag',\n",
        "          'Has Online delivery', 'Online_Delivery_Flag']].head())\n",
        "\n"
      ]
    }
  ]
}